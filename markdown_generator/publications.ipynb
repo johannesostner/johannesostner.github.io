{
 "cells": [
  {
   "cell_type": "markdown",
   "metadata": {
    "deletable": true,
    "editable": true
   },
   "source": [
    "# Publications markdown generator for academicpages\n",
    "\n",
    "Takes a TSV of publications with metadata and converts them for use with [academicpages.github.io](academicpages.github.io). This is an interactive Jupyter notebook ([see more info here](http://jupyter-notebook-beginner-guide.readthedocs.io/en/latest/what_is_jupyter.html)). The core python code is also in `publications.py`. Run either from the `markdown_generator` folder after replacing `publications.tsv` with one containing your data.\n",
    "\n",
    "TODO: Make this work with BibTex and other databases of citations, rather than Stuart's non-standard TSV format and citation style.\n"
   ]
  },
  {
   "cell_type": "markdown",
   "metadata": {},
   "source": [
    "## Data format\n",
    "\n",
    "The TSV needs to have the following columns: pub_date, title, venue, excerpt, citation, site_url, and paper_url, with a header at the top. \n",
    "\n",
    "- `excerpt` and `paper_url` can be blank, but the others must have values. \n",
    "- `pub_date` must be formatted as YYYY-MM-DD.\n",
    "- `url_slug` will be the descriptive part of the .md file and the permalink URL for the page about the paper. The .md file will be `YYYY-MM-DD-[url_slug].md` and the permalink will be `https://[yourdomain]/publications/YYYY-MM-DD-[url_slug]`\n",
    "\n",
    "This is how the raw file looks (it doesn't look pretty, use a spreadsheet or other program to edit and create)."
   ]
  },
  {
   "cell_type": "code",
   "metadata": {
    "collapsed": false,
    "ExecuteTime": {
     "end_time": "2025-01-15T14:09:31.832859Z",
     "start_time": "2025-01-15T14:09:31.713833Z"
    }
   },
   "source": [
    "!cat publications.tsv"
   ],
   "outputs": [
    {
     "name": "stdout",
     "output_type": "stream",
     "text": [
      "pub_date\ttitle\tvenue\texcerpt\tcitation\turl_slug\tpaper_url\r\n",
      "2021-11-25\tscCODA is a Bayesian model for compositional single-cell data analysis\tNature Communications\tCompositional changes of cell types are main drivers of biological processes. Their detection through single-cell experiments is difficult due to the compositionality of the data and low sample sizes. We introduce scCODA ( https://github.com/theislab/scCODA ), a Bayesian model addressing these issues enabling the study of complex cell type effects in disease, and other stimuli. scCODA demonstrated excellent detection performance, while reliably controlling for false discoveries, and identified experimentally verified cell type changes that were missed in original analyses.\tBüttner, M., Ostner, J., Müller, C. L., Theis, F. J., and Schubert, B. (2021). \"scCODA is a Bayesian model for compositional single-cell data analysis\" <i>Nat. Commun.</i>  12, 6876.\tscCODA\thttps://www.nature.com/articles/s41467-021-27150-6\r\n",
      "2021-12-07\ttascCODA: Bayesian Tree-Aggregated Analysis of Compositional Amplicon and Single-Cell Data\tFrontiers in Genetics\tAccurate generative statistical modeling of count data is of critical relevance for the analysis of biological datasets from high-throughput sequencing technologies. Important instances include the modeling of microbiome compositions from amplicon sequencing surveys and the analysis of cell type compositions derived from single-cell RNA sequencing. Microbial and cell type abundance data share remarkably similar statistical features, including their inherent compositionality and a natural hierarchical ordering of the individual components from taxonomic or cell lineage tree information, respectively. To this end, we introduce a Bayesian model for tree-aggregated amplicon and single-cell compositional data analysis (tascCODA) that seamlessly integrates hierarchical information and experimental covariate data into the generative modeling of compositional count data. By combining latent parameters based on the tree structure with spike-and-slab Lasso penalization, tascCODA can determine covariate effects across different levels of the population hierarchy in a data-driven parsimonious way. In the context of differential abundance testing, we validate tascCODA's excellent performance on a comprehensive set of synthetic benchmark scenarios. Our analyses on human single-cell RNA-seq data from ulcerative colitis patients and amplicon data from patients with irritable bowel syndrome, respectively, identified aggregated cell type and taxon compositional changes that were more predictive and parsimonious than those proposed by other schemes. We posit that tascCODA constitutes a valuable addition to the growing statistical toolbox for generative modeling and analysis of compositional changes in microbial or cell population data.\tOstner, J., Carcy, S., and Müller, C. L. (2021). \"tascCODA: Bayesian Tree-Aggregated Analysis of Compositional Amplicon and Single-Cell Data.\" <i>Front. Genet.</i> 12, 766405.\ttascCODA\thttps://www.frontiersin.org/articles/10.3389/fgene.2021.766405/full\r\n",
      "2023-03-31\tBest practices for single-cell analysis across modalities\tNature reviews. Genetics\tRecent advances in single-cell technologies have enabled high-throughput molecular profiling of cells across modalities and locations. Single-cell transcriptomics data can now be complemented by chromatin accessibility, surface protein expression, adaptive immune receptor repertoire profiling and spatial information. The increasing availability of single-cell data across modalities has motivated the development of novel computational methods to help analysts derive biological insights. As the field grows, it becomes increasingly difficult to navigate the vast landscape of tools and analysis steps. Here, we summarize independent benchmarking studies of unimodal and multimodal single-cell analysis across modalities to suggest comprehensive best-practice workflows for the most common analysis steps. Where independent benchmarks are not available, we review and contrast popular methods. Our article serves as an entry point for novices in the field of single-cell (multi-)omic analysis and guides advanced users to the most recent best practices.\tHeumos, L., Schaar, A. C., Lance, C., Litinetskaya, A., Drost, F., Zappia, L., et al. (2023). \"Best practices for single-cell analysis across modalities\". <i>Nat. Rev. Genet.</i>, 1–23.\tbest_practices\thttps://www.nature.com/articles/s41576-023-00586-w\r\n",
      "2024-01-23\tMetaIBS - large-scale amplicon-based meta analysis of irritable bowel syndrome\tBioRxiv\tIrritable Bowel Syndrome (IBS) is a chronic functional bowel disorder causing abdominal discomfort, as well as transit deregulation with constipation and/or diarrhea. The pathophysiology of IBS is poorly understood and believed to be multifactorial. The role of gut microbiota in IBS has been investigated in several case-control studies, in particular via 16S rRNA amplicon sequencing surveys. These studies, however, have not yet led to a consistent picture of significant changes in gut microbial compositions across health and disease. One key bottleneck is the modest cohort sizes of most individual studies and a high diversity of experimental, bioinformatics, and statistical analysis approaches across studies.Results We address these shortcomings by presenting MetaIBS, an open-access data repository and associated meta-analysis workflow of thirteen 16S rRNA amplicon datasets comprising both fecal matter and sigmoid biopsy samples spanning ∽2,500 IBS and healthy individuals. MetaIBS includes a tailored computational framework that (i) enables coherent de novo processing and taxonomic assignments of the raw 16S rRNA amplicon reads across experimental protocols and sequencing technologies, and (ii) statistical workflows for visualization and analysis at different taxonomic ranks and data granularity. Our statistical meta-analysis shows that popular high-level microbiome summary statistics, including Firmicutes/Bacteroidota ratios or diversity indices, are insufficient for reliable discrimination between IBS patients and healthy controls. Fine-grained multi-method differential abundance and classification analysis, however, can identify sets of differentially abundant taxa that replicate across multiple datasets, including Coprococcus eutactus and Alistipes finegoldii.Conclusions MetaIBS provides a curated and reproducible data and (meta-)analysis resource for amplicon-based IBS research at unprecedented scale. MetaIBS allows assessing the heterogeneity of IBS cohorts across multiple experimental protocols, sample types, and IBS phenotypes. Our framework will likely contribute to more coherent insights into the role of the microbiome in IBS and the discovery of reliable microbial IBS biomarkers for follow-up functional and translational studies.\tCarcy, S., Ostner, J., Tran, V., Menden, M., and Müller, C. L. (2024). \"MetaIBS - large-scale amplicon-based meta analysis of irritable bowel syndrome\". <i>bioRxiv</i>, 2024.01.22.575775. doi: 10.1101/2024.01.22.575775\tmetaIBS\thttps://www.biorxiv.org/content/10.1101/2024.01.22.575775v1\r\n",
      "2024-06-27\tBacSC: A general workflow for bacterial single-cell RNA sequencing data analysis\tBioRxiv\tBacterial single-cell RNA sequencing has the potential to elucidate within-population heterogeneity of prokaryotes, as well as their interaction with host systems. Despite conceptual similarities, the statistical properties of bacterial single-cell datasets are highly dependent on the protocol, making proper processing essential to tap their full potential. We present BacSC, a fully data-driven computational pipeline that processes bacterial single-cell data without requiring manual intervention. BacSC performs data-adaptive quality control and variance stabilization, selects suitable parameters for dimension reduction, neighborhood embedding, and clustering, and provides false discovery rate control in differential gene expression testing. We validated BacSC on a broad selection of bacterial single-cell datasets spanning multiple protocols and species. Here, BacSC detected subpopulations in Klebsiella pneumoniae, found matching structures of Pseudomonas aeruginosa under regular and low-iron conditions, and better represented subpopulation dynamics of Bacillus subtilis. BacSC thus simplifies statistical processing of bacterial single-cell data and reduces the danger of incorrect processing.\tOstner, J., Kirk, T., Olayo-Alarcon, R., Thöming, J., Rosenthal, A. Z., Häussler, S., et al. (2024). BacSC: A general workflow for bacterial single-cell RNA sequencing data analysis. <i>bioRxiv</i>. doi: 10.1101/2024.06.22.600071\tBacSC\thttp://biorxiv.org/lookup/doi/10.1101/2024.06.22.600071\r\n",
      "2024-08-07\tPertpy: an end-to-end framework for perturbation analysis\tBioRxiv\tAdvances in single-cell technology have enabled the measurement of cell-resolved molecular states across a variety of cell lines and tissues under a plethora of genetic, chemical, environmental, or disease perturbations. Current methods focus on differential comparison or are specific to a particular task in a multi-condition setting with purely statistical perspectives. The quickly growing number, size, and complexity of such studies requires a scalable analysis framework that takes existing biological context into account. Here, we present pertpy, a Python-based modular framework for the analysis of large-scale perturbation single-cell experiments. Pertpy provides access to harmonized perturbation datasets and metadata databases along with numerous fast and user-friendly implementations of both established and novel methods such as automatic metadata annotation or perturbation distances to efficiently analyze perturbation data. As part of the scverse ecosystem, pertpy interoperates with existing libraries for the analysis of single-cell data and is designed to be easily extended.\tHeumos, L., Ji, Y., May, L., Green, T., Zhang, X., Wu, X., et al. (2024). Pertpy: an end-to-end framework for perturbation analysis. bioRxiv, 2024.08.04.606516. doi: 10.1101/2024.08.04.606516\tpertpy\thttps://www.biorxiv.org/content/10.1101/2024.08.04.606516v1\r\n",
      "2024-12-09\tScore matching for differential abundance testing of compositional high-throughput sequencing data\tBioRxiv\tThe class of a-b power interaction models, proposed by Yu et al. (2024), provides a general framework for modeling sparse compositional count data with pairwise feature interactions. This class includes many distributions as special cases and enables modeling of zero counts through power transformations, making it particularly suitable for modern high-throughput sequencing data with excess zeros, including single-cell RNA-Seq and microbial amplicon data. Here, we present an extension of this class of models that allows inclusion of covariate information, thus enabling accurate characterization of covariate dependencies in heterogeneous populations. Combining this model with a tailored differential abundance (DA) test leads to a novel DA testing scheme, cosmoDA, that can reduce false positive detection rate caused by correlated features. cosmoDA uses penalized generalized score matching for parsimonious model fitting. We show on simulated benchmarks that cosmoDA can accurately estimate feature interactions in the presence of population heterogeneity and significantly reduces the false discovery rate when testing for differential abundance of correlated features. Using single-cell and amplicon data, we illustrate cosmoDA's ability to estimate data-adaptive Box-Cox-type data transformations and assess the impact of zero replacement and power transformations on downstream differential abundance results. cosmoDA is available at https://github.com/bio-datascience/cosmoDA.\tOstner, J., Li, H., and Müller, C. L. (2024). Score matching for differential abundance testing of compositional high-throughput sequencing data. bioRxiv, 2024.12.05.627006. doi: 10.1101/2024.12.05.627006\tcosmoDA\thttps://www.biorxiv.org/content/10.1101/2024.12.05.627006v1"
     ]
    }
   ],
   "execution_count": 1
  },
  {
   "cell_type": "markdown",
   "metadata": {},
   "source": [
    "## Import pandas\n",
    "\n",
    "We are using the very handy pandas library for dataframes."
   ]
  },
  {
   "cell_type": "code",
   "metadata": {
    "collapsed": true,
    "deletable": true,
    "editable": true,
    "ExecuteTime": {
     "end_time": "2025-01-15T14:10:03.400482Z",
     "start_time": "2025-01-15T14:09:57.915109Z"
    }
   },
   "source": [
    "import pandas as pd"
   ],
   "outputs": [],
   "execution_count": 3
  },
  {
   "cell_type": "markdown",
   "metadata": {},
   "source": [
    "## Import TSV\n",
    "\n",
    "Pandas makes this easy with the read_csv function. We are using a TSV, so we specify the separator as a tab, or `\\t`.\n",
    "\n",
    "I found it important to put this data in a tab-separated values format, because there are a lot of commas in this kind of data and comma-separated values can get messed up. However, you can modify the import statement, as pandas also has read_excel(), read_json(), and others."
   ]
  },
  {
   "cell_type": "code",
   "metadata": {
    "collapsed": false,
    "deletable": true,
    "editable": true,
    "ExecuteTime": {
     "end_time": "2025-01-15T14:10:03.408870Z",
     "start_time": "2025-01-15T14:10:03.401415Z"
    }
   },
   "source": [
    "publications = pd.read_csv(\"publications.tsv\", sep=\"\\t\", header=0)\n",
    "publications\n"
   ],
   "outputs": [
    {
     "data": {
      "text/plain": [
       "     pub_date                                              title  \\\n",
       "0  2021-11-25  scCODA is a Bayesian model for compositional s...   \n",
       "1  2021-12-07  tascCODA: Bayesian Tree-Aggregated Analysis of...   \n",
       "2  2023-03-31  Best practices for single-cell analysis across...   \n",
       "3  2024-01-23  MetaIBS - large-scale amplicon-based meta anal...   \n",
       "4  2024-06-27  BacSC: A general workflow for bacterial single...   \n",
       "5  2024-08-07  Pertpy: an end-to-end framework for perturbati...   \n",
       "6  2024-12-09  Score matching for differential abundance test...   \n",
       "\n",
       "                      venue  \\\n",
       "0     Nature Communications   \n",
       "1     Frontiers in Genetics   \n",
       "2  Nature reviews. Genetics   \n",
       "3                   BioRxiv   \n",
       "4                   BioRxiv   \n",
       "5                   BioRxiv   \n",
       "6                   BioRxiv   \n",
       "\n",
       "                                             excerpt  \\\n",
       "0  Compositional changes of cell types are main d...   \n",
       "1  Accurate generative statistical modeling of co...   \n",
       "2  Recent advances in single-cell technologies ha...   \n",
       "3  Irritable Bowel Syndrome (IBS) is a chronic fu...   \n",
       "4  Bacterial single-cell RNA sequencing has the p...   \n",
       "5  Advances in single-cell technology have enable...   \n",
       "6  The class of a-b power interaction models, pro...   \n",
       "\n",
       "                                            citation        url_slug  \\\n",
       "0  Büttner, M., Ostner, J., Müller, C. L., Theis,...          scCODA   \n",
       "1  Ostner, J., Carcy, S., and Müller, C. L. (2021...        tascCODA   \n",
       "2  Heumos, L., Schaar, A. C., Lance, C., Litinets...  best_practices   \n",
       "3  Carcy, S., Ostner, J., Tran, V., Menden, M., a...         metaIBS   \n",
       "4  Ostner, J., Kirk, T., Olayo-Alarcon, R., Thömi...           BacSC   \n",
       "5  Heumos, L., Ji, Y., May, L., Green, T., Zhang,...          pertpy   \n",
       "6  Ostner, J., Li, H., and Müller, C. L. (2024). ...         cosmoDA   \n",
       "\n",
       "                                           paper_url  \n",
       "0  https://www.nature.com/articles/s41467-021-271...  \n",
       "1  https://www.frontiersin.org/articles/10.3389/f...  \n",
       "2  https://www.nature.com/articles/s41576-023-005...  \n",
       "3  https://www.biorxiv.org/content/10.1101/2024.0...  \n",
       "4  http://biorxiv.org/lookup/doi/10.1101/2024.06....  \n",
       "5  https://www.biorxiv.org/content/10.1101/2024.0...  \n",
       "6  https://www.biorxiv.org/content/10.1101/2024.1...  "
      ],
      "text/html": [
       "<div>\n",
       "<style scoped>\n",
       "    .dataframe tbody tr th:only-of-type {\n",
       "        vertical-align: middle;\n",
       "    }\n",
       "\n",
       "    .dataframe tbody tr th {\n",
       "        vertical-align: top;\n",
       "    }\n",
       "\n",
       "    .dataframe thead th {\n",
       "        text-align: right;\n",
       "    }\n",
       "</style>\n",
       "<table border=\"1\" class=\"dataframe\">\n",
       "  <thead>\n",
       "    <tr style=\"text-align: right;\">\n",
       "      <th></th>\n",
       "      <th>pub_date</th>\n",
       "      <th>title</th>\n",
       "      <th>venue</th>\n",
       "      <th>excerpt</th>\n",
       "      <th>citation</th>\n",
       "      <th>url_slug</th>\n",
       "      <th>paper_url</th>\n",
       "    </tr>\n",
       "  </thead>\n",
       "  <tbody>\n",
       "    <tr>\n",
       "      <th>0</th>\n",
       "      <td>2021-11-25</td>\n",
       "      <td>scCODA is a Bayesian model for compositional s...</td>\n",
       "      <td>Nature Communications</td>\n",
       "      <td>Compositional changes of cell types are main d...</td>\n",
       "      <td>Büttner, M., Ostner, J., Müller, C. L., Theis,...</td>\n",
       "      <td>scCODA</td>\n",
       "      <td>https://www.nature.com/articles/s41467-021-271...</td>\n",
       "    </tr>\n",
       "    <tr>\n",
       "      <th>1</th>\n",
       "      <td>2021-12-07</td>\n",
       "      <td>tascCODA: Bayesian Tree-Aggregated Analysis of...</td>\n",
       "      <td>Frontiers in Genetics</td>\n",
       "      <td>Accurate generative statistical modeling of co...</td>\n",
       "      <td>Ostner, J., Carcy, S., and Müller, C. L. (2021...</td>\n",
       "      <td>tascCODA</td>\n",
       "      <td>https://www.frontiersin.org/articles/10.3389/f...</td>\n",
       "    </tr>\n",
       "    <tr>\n",
       "      <th>2</th>\n",
       "      <td>2023-03-31</td>\n",
       "      <td>Best practices for single-cell analysis across...</td>\n",
       "      <td>Nature reviews. Genetics</td>\n",
       "      <td>Recent advances in single-cell technologies ha...</td>\n",
       "      <td>Heumos, L., Schaar, A. C., Lance, C., Litinets...</td>\n",
       "      <td>best_practices</td>\n",
       "      <td>https://www.nature.com/articles/s41576-023-005...</td>\n",
       "    </tr>\n",
       "    <tr>\n",
       "      <th>3</th>\n",
       "      <td>2024-01-23</td>\n",
       "      <td>MetaIBS - large-scale amplicon-based meta anal...</td>\n",
       "      <td>BioRxiv</td>\n",
       "      <td>Irritable Bowel Syndrome (IBS) is a chronic fu...</td>\n",
       "      <td>Carcy, S., Ostner, J., Tran, V., Menden, M., a...</td>\n",
       "      <td>metaIBS</td>\n",
       "      <td>https://www.biorxiv.org/content/10.1101/2024.0...</td>\n",
       "    </tr>\n",
       "    <tr>\n",
       "      <th>4</th>\n",
       "      <td>2024-06-27</td>\n",
       "      <td>BacSC: A general workflow for bacterial single...</td>\n",
       "      <td>BioRxiv</td>\n",
       "      <td>Bacterial single-cell RNA sequencing has the p...</td>\n",
       "      <td>Ostner, J., Kirk, T., Olayo-Alarcon, R., Thömi...</td>\n",
       "      <td>BacSC</td>\n",
       "      <td>http://biorxiv.org/lookup/doi/10.1101/2024.06....</td>\n",
       "    </tr>\n",
       "    <tr>\n",
       "      <th>5</th>\n",
       "      <td>2024-08-07</td>\n",
       "      <td>Pertpy: an end-to-end framework for perturbati...</td>\n",
       "      <td>BioRxiv</td>\n",
       "      <td>Advances in single-cell technology have enable...</td>\n",
       "      <td>Heumos, L., Ji, Y., May, L., Green, T., Zhang,...</td>\n",
       "      <td>pertpy</td>\n",
       "      <td>https://www.biorxiv.org/content/10.1101/2024.0...</td>\n",
       "    </tr>\n",
       "    <tr>\n",
       "      <th>6</th>\n",
       "      <td>2024-12-09</td>\n",
       "      <td>Score matching for differential abundance test...</td>\n",
       "      <td>BioRxiv</td>\n",
       "      <td>The class of a-b power interaction models, pro...</td>\n",
       "      <td>Ostner, J., Li, H., and Müller, C. L. (2024). ...</td>\n",
       "      <td>cosmoDA</td>\n",
       "      <td>https://www.biorxiv.org/content/10.1101/2024.1...</td>\n",
       "    </tr>\n",
       "  </tbody>\n",
       "</table>\n",
       "</div>"
      ]
     },
     "execution_count": 4,
     "metadata": {},
     "output_type": "execute_result"
    }
   ],
   "execution_count": 4
  },
  {
   "cell_type": "markdown",
   "metadata": {},
   "source": [
    "## Escape special characters\n",
    "\n",
    "YAML is very picky about how it takes a valid string, so we are replacing single and double quotes (and ampersands) with their HTML encoded equivilents. This makes them look not so readable in raw format, but they are parsed and rendered nicely."
   ]
  },
  {
   "cell_type": "code",
   "metadata": {
    "collapsed": true,
    "deletable": true,
    "editable": true,
    "ExecuteTime": {
     "end_time": "2025-01-15T14:10:03.411607Z",
     "start_time": "2025-01-15T14:10:03.409556Z"
    }
   },
   "source": [
    "html_escape_table = {\n",
    "    \"&\": \"&amp;\",\n",
    "    '\"': \"&quot;\",\n",
    "    \"'\": \"&apos;\"\n",
    "    }\n",
    "\n",
    "def html_escape(text):\n",
    "    \"\"\"Produce entities within text.\"\"\"\n",
    "    return \"\".join(html_escape_table.get(c,c) for c in text)"
   ],
   "outputs": [],
   "execution_count": 5
  },
  {
   "cell_type": "markdown",
   "metadata": {},
   "source": [
    "## Creating the markdown files\n",
    "\n",
    "This is where the heavy lifting is done. This loops through all the rows in the TSV dataframe, then starts to concatentate a big string (```md```) that contains the markdown for each type. It does the YAML metadata first, then does the description for the individual page."
   ]
  },
  {
   "cell_type": "code",
   "metadata": {
    "collapsed": false,
    "deletable": true,
    "editable": true,
    "ExecuteTime": {
     "end_time": "2025-01-15T14:10:03.419708Z",
     "start_time": "2025-01-15T14:10:03.412704Z"
    }
   },
   "source": [
    "import os\n",
    "for row, item in publications.iterrows():\n",
    "    \n",
    "    md_filename = str(item.pub_date) + \"-\" + item.url_slug + \".md\"\n",
    "    html_filename = str(item.pub_date) + \"-\" + item.url_slug\n",
    "    year = item.pub_date[:4]\n",
    "    \n",
    "    ## YAML variables\n",
    "    \n",
    "    md = \"---\\ntitle: \\\"\"   + item.title + '\"\\n'\n",
    "    \n",
    "    md += \"\"\"collection: publications\"\"\"\n",
    "    \n",
    "    md += \"\"\"\\npermalink: /publication/\"\"\" + html_filename\n",
    "    \n",
    "    if len(str(item.excerpt)) > 5:\n",
    "        md += \"\\nexcerpt: '\" + html_escape(item.excerpt) + \"'\"\n",
    "    \n",
    "    md += \"\\ndate: \" + str(item.pub_date) \n",
    "    \n",
    "    md += \"\\nvenue: '\" + html_escape(item.venue) + \"'\"\n",
    "    \n",
    "    if len(str(item.paper_url)) > 5:\n",
    "        md += \"\\npaperurl: '\" + item.paper_url + \"'\"\n",
    "    \n",
    "    md += \"\\ncitation: '\" + html_escape(item.citation) + \"'\"\n",
    "    \n",
    "    md += \"\\n---\"\n",
    "    \n",
    "    ## Markdown description for individual page\n",
    "        \n",
    "    if len(str(item.excerpt)) > 5:\n",
    "        md += \"\\n\" + html_escape(item.excerpt) + \"\\n\"\n",
    "    \n",
    "    if len(str(item.paper_url)) > 5:\n",
    "        md += \"\\n[Download paper here](\" + item.paper_url + \")\\n\" \n",
    "        \n",
    "    md += \"\\nRecommended citation: \" + item.citation\n",
    "    \n",
    "    md_filename = os.path.basename(md_filename)\n",
    "       \n",
    "    with open(\"../_publications/\" + md_filename, 'w') as f:\n",
    "        f.write(md)"
   ],
   "outputs": [],
   "execution_count": 6
  },
  {
   "cell_type": "markdown",
   "metadata": {},
   "source": [
    "These files are in the publications directory, one directory below where we're working from."
   ]
  },
  {
   "cell_type": "code",
   "metadata": {
    "collapsed": false,
    "deletable": true,
    "editable": true,
    "ExecuteTime": {
     "end_time": "2025-01-15T14:10:03.566664Z",
     "start_time": "2025-01-15T14:10:03.420332Z"
    }
   },
   "source": [
    "!ls ../_publications/"
   ],
   "outputs": [
    {
     "name": "stdout",
     "output_type": "stream",
     "text": [
      "2021-11-25-scCODA.md         2024-06-27-BacSC.md\r\n",
      "2021-12-07-tascCODA.md       2024-08-07-pertpy.md\r\n",
      "2023-03-31-best_practices.md 2024-12-09-cosmoDA.md\r\n",
      "2024-01-23-metaIBS.md\r\n"
     ]
    }
   ],
   "execution_count": 7
  },
  {
   "cell_type": "code",
   "metadata": {
    "collapsed": false,
    "deletable": true,
    "editable": true,
    "ExecuteTime": {
     "end_time": "2025-01-15T14:10:43.778245Z",
     "start_time": "2025-01-15T14:10:43.659319Z"
    }
   },
   "source": "!cat ../_publications/2024-12-09-cosmoDA.md",
   "outputs": [
    {
     "name": "stdout",
     "output_type": "stream",
     "text": [
      "---\r\n",
      "title: \"Score matching for differential abundance testing of compositional high-throughput sequencing data\"\r\n",
      "collection: publications\r\n",
      "permalink: /publication/2024-12-09-cosmoDA\r\n",
      "excerpt: 'The class of a-b power interaction models, proposed by Yu et al. (2024), provides a general framework for modeling sparse compositional count data with pairwise feature interactions. This class includes many distributions as special cases and enables modeling of zero counts through power transformations, making it particularly suitable for modern high-throughput sequencing data with excess zeros, including single-cell RNA-Seq and microbial amplicon data. Here, we present an extension of this class of models that allows inclusion of covariate information, thus enabling accurate characterization of covariate dependencies in heterogeneous populations. Combining this model with a tailored differential abundance (DA) test leads to a novel DA testing scheme, cosmoDA, that can reduce false positive detection rate caused by correlated features. cosmoDA uses penalized generalized score matching for parsimonious model fitting. We show on simulated benchmarks that cosmoDA can accurately estimate feature interactions in the presence of population heterogeneity and significantly reduces the false discovery rate when testing for differential abundance of correlated features. Using single-cell and amplicon data, we illustrate cosmoDA&apos;s ability to estimate data-adaptive Box-Cox-type data transformations and assess the impact of zero replacement and power transformations on downstream differential abundance results. cosmoDA is available at https://github.com/bio-datascience/cosmoDA.'\r\n",
      "date: 2024-12-09\r\n",
      "venue: 'BioRxiv'\r\n",
      "paperurl: 'https://www.biorxiv.org/content/10.1101/2024.12.05.627006v1'\r\n",
      "citation: 'Ostner, J., Li, H., and Müller, C. L. (2024). Score matching for differential abundance testing of compositional high-throughput sequencing data. bioRxiv, 2024.12.05.627006. doi: 10.1101/2024.12.05.627006'\r\n",
      "---\r\n",
      "The class of a-b power interaction models, proposed by Yu et al. (2024), provides a general framework for modeling sparse compositional count data with pairwise feature interactions. This class includes many distributions as special cases and enables modeling of zero counts through power transformations, making it particularly suitable for modern high-throughput sequencing data with excess zeros, including single-cell RNA-Seq and microbial amplicon data. Here, we present an extension of this class of models that allows inclusion of covariate information, thus enabling accurate characterization of covariate dependencies in heterogeneous populations. Combining this model with a tailored differential abundance (DA) test leads to a novel DA testing scheme, cosmoDA, that can reduce false positive detection rate caused by correlated features. cosmoDA uses penalized generalized score matching for parsimonious model fitting. We show on simulated benchmarks that cosmoDA can accurately estimate feature interactions in the presence of population heterogeneity and significantly reduces the false discovery rate when testing for differential abundance of correlated features. Using single-cell and amplicon data, we illustrate cosmoDA&apos;s ability to estimate data-adaptive Box-Cox-type data transformations and assess the impact of zero replacement and power transformations on downstream differential abundance results. cosmoDA is available at https://github.com/bio-datascience/cosmoDA.\r\n",
      "\r\n",
      "[Download paper here](https://www.biorxiv.org/content/10.1101/2024.12.05.627006v1)\r\n",
      "\r\n",
      "Recommended citation: Ostner, J., Li, H., and Müller, C. L. (2024). Score matching for differential abundance testing of compositional high-throughput sequencing data. bioRxiv, 2024.12.05.627006. doi: 10.1101/2024.12.05.627006"
     ]
    }
   ],
   "execution_count": 10
  },
  {
   "cell_type": "code",
   "metadata": {
    "collapsed": true,
    "deletable": true,
    "editable": true
   },
   "source": [],
   "outputs": [],
   "execution_count": null
  }
 ],
 "metadata": {
  "kernelspec": {
   "display_name": "Python 3",
   "language": "python",
   "name": "python3"
  },
  "language_info": {
   "codemirror_mode": {
    "name": "ipython",
    "version": 3
   },
   "file_extension": ".py",
   "mimetype": "text/x-python",
   "name": "python",
   "nbconvert_exporter": "python",
   "pygments_lexer": "ipython3",
   "version": "3.6.1"
  }
 },
 "nbformat": 4,
 "nbformat_minor": 0
}

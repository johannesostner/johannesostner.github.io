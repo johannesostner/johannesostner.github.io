{
 "cells": [
  {
   "cell_type": "markdown",
   "metadata": {
    "deletable": true,
    "editable": true
   },
   "source": [
    "# Talks markdown generator for academicpages\n",
    "\n",
    "Takes a TSV of talks with metadata and converts them for use with [academicpages.github.io](academicpages.github.io). This is an interactive Jupyter notebook ([see more info here](http://jupyter-notebook-beginner-guide.readthedocs.io/en/latest/what_is_jupyter.html)). The core python code is also in `talks.py`. Run either from the `markdown_generator` folder after replacing `talks.tsv` with one containing your data.\n",
    "\n",
    "TODO: Make this work with BibTex and other databases, rather than Stuart's non-standard TSV format and citation style."
   ]
  },
  {
   "cell_type": "code",
   "metadata": {
    "collapsed": false,
    "deletable": true,
    "editable": true,
    "ExecuteTime": {
     "end_time": "2025-01-15T14:17:06.611435Z",
     "start_time": "2025-01-15T14:17:06.400742Z"
    }
   },
   "source": [
    "import pandas as pd\n",
    "import os"
   ],
   "outputs": [],
   "execution_count": 1
  },
  {
   "cell_type": "markdown",
   "metadata": {},
   "source": [
    "## Data format\n",
    "\n",
    "The TSV needs to have the following columns: title, type, url_slug, venue, date, location, talk_url, description, with a header at the top. Many of these fields can be blank, but the columns must be in the TSV.\n",
    "\n",
    "- Fields that cannot be blank: `title`, `url_slug`, `date`. All else can be blank. `type` defaults to \"Talk\" \n",
    "- `date` must be formatted as YYYY-MM-DD.\n",
    "- `url_slug` will be the descriptive part of the .md file and the permalink URL for the page about the paper. \n",
    "    - The .md file will be `YYYY-MM-DD-[url_slug].md` and the permalink will be `https://[yourdomain]/talks/YYYY-MM-DD-[url_slug]`\n",
    "    - The combination of `url_slug` and `date` must be unique, as it will be the basis for your filenames\n",
    "\n",
    "This is how the raw file looks (it doesn't look pretty, use a spreadsheet or other program to edit and create)."
   ]
  },
  {
   "cell_type": "code",
   "metadata": {
    "collapsed": false,
    "ExecuteTime": {
     "end_time": "2025-01-15T14:17:06.731618Z",
     "start_time": "2025-01-15T14:17:06.614441Z"
    }
   },
   "source": [
    "!cat talks.tsv"
   ],
   "outputs": [
    {
     "name": "stdout",
     "output_type": "stream",
     "text": [
      "title\ttype\turl_slug\tvenue\tdate\tlocation\ttalk_url\tdescription\r\n",
      "Bayesian tree-aggregated analysis of compositional amplicon and single-cell data\tTalk\tDAGStat-2022\tDAGStat\t2022-03-29\tHamburg, Germany\r\n",
      "Bayesian tree-aggregated analysis of compositional amplicon and single-cell data\tTalk\tHMGU_microbiome-2022\tHelmholtz Munich Microbiome Day\t2022-05-12\tMunich, Germany\r\n",
      "Flexible and efficient modeling of compositional count data from high-throughput sequencing\tPoster\tProbGen-2023\tProbabilistic Modeling in Genomics\t2023-03-09\tCold Spring Harbor, NY, USA\r\n",
      "Flexible and efficient modeling of compositional count data from high-throughput sequencing\tPoster\tLMUStats-2023\tLMU Statistics department retreat\t2023-05-12\tHolzhausen am Ammersee, Germany\r\n",
      "Bayesian Modeling of Compositional Changes in Microbial Abundance Data\tTalk\tICSA-2023\tICSA Applied Statistics Symposium\t2023-06-12\tAnn Arbor, MI, USA\r\n",
      "Flexible and efficient modeling of compositional count data from high-throughput sequencing\tPoster\tISMB-2023\tISMB/ECCB conference\t2023-07-25\tLyon, France\r\n"
     ]
    }
   ],
   "execution_count": 2
  },
  {
   "cell_type": "markdown",
   "metadata": {},
   "source": [
    "## Import TSV\n",
    "\n",
    "Pandas makes this easy with the read_csv function. We are using a TSV, so we specify the separator as a tab, or `\\t`.\n",
    "\n",
    "I found it important to put this data in a tab-separated values format, because there are a lot of commas in this kind of data and comma-separated values can get messed up. However, you can modify the import statement, as pandas also has read_excel(), read_json(), and others."
   ]
  },
  {
   "cell_type": "code",
   "metadata": {
    "collapsed": false,
    "deletable": true,
    "editable": true,
    "ExecuteTime": {
     "end_time": "2025-01-15T14:17:06.742432Z",
     "start_time": "2025-01-15T14:17:06.732726Z"
    }
   },
   "source": [
    "talks = pd.read_csv(\"talks.tsv\", sep=\"\\t\", header=0)\n",
    "talks"
   ],
   "outputs": [
    {
     "data": {
      "text/plain": [
       "                                               title    type  \\\n",
       "0  Bayesian tree-aggregated analysis of compositi...    Talk   \n",
       "1  Bayesian tree-aggregated analysis of compositi...    Talk   \n",
       "2  Flexible and efficient modeling of composition...  Poster   \n",
       "3  Flexible and efficient modeling of composition...  Poster   \n",
       "4  Bayesian Modeling of Compositional Changes in ...    Talk   \n",
       "5  Flexible and efficient modeling of composition...  Poster   \n",
       "\n",
       "               url_slug                               venue        date  \\\n",
       "0          DAGStat-2022                             DAGStat  2022-03-29   \n",
       "1  HMGU_microbiome-2022     Helmholtz Munich Microbiome Day  2022-05-12   \n",
       "2          ProbGen-2023  Probabilistic Modeling in Genomics  2023-03-09   \n",
       "3         LMUStats-2023   LMU Statistics department retreat  2023-05-12   \n",
       "4             ICSA-2023   ICSA Applied Statistics Symposium  2023-06-12   \n",
       "5             ISMB-2023                ISMB/ECCB conference  2023-07-25   \n",
       "\n",
       "                          location  talk_url  description  \n",
       "0                 Hamburg, Germany       NaN          NaN  \n",
       "1                  Munich, Germany       NaN          NaN  \n",
       "2      Cold Spring Harbor, NY, USA       NaN          NaN  \n",
       "3  Holzhausen am Ammersee, Germany       NaN          NaN  \n",
       "4               Ann Arbor, MI, USA       NaN          NaN  \n",
       "5                     Lyon, France       NaN          NaN  "
      ],
      "text/html": [
       "<div>\n",
       "<style scoped>\n",
       "    .dataframe tbody tr th:only-of-type {\n",
       "        vertical-align: middle;\n",
       "    }\n",
       "\n",
       "    .dataframe tbody tr th {\n",
       "        vertical-align: top;\n",
       "    }\n",
       "\n",
       "    .dataframe thead th {\n",
       "        text-align: right;\n",
       "    }\n",
       "</style>\n",
       "<table border=\"1\" class=\"dataframe\">\n",
       "  <thead>\n",
       "    <tr style=\"text-align: right;\">\n",
       "      <th></th>\n",
       "      <th>title</th>\n",
       "      <th>type</th>\n",
       "      <th>url_slug</th>\n",
       "      <th>venue</th>\n",
       "      <th>date</th>\n",
       "      <th>location</th>\n",
       "      <th>talk_url</th>\n",
       "      <th>description</th>\n",
       "    </tr>\n",
       "  </thead>\n",
       "  <tbody>\n",
       "    <tr>\n",
       "      <th>0</th>\n",
       "      <td>Bayesian tree-aggregated analysis of compositi...</td>\n",
       "      <td>Talk</td>\n",
       "      <td>DAGStat-2022</td>\n",
       "      <td>DAGStat</td>\n",
       "      <td>2022-03-29</td>\n",
       "      <td>Hamburg, Germany</td>\n",
       "      <td>NaN</td>\n",
       "      <td>NaN</td>\n",
       "    </tr>\n",
       "    <tr>\n",
       "      <th>1</th>\n",
       "      <td>Bayesian tree-aggregated analysis of compositi...</td>\n",
       "      <td>Talk</td>\n",
       "      <td>HMGU_microbiome-2022</td>\n",
       "      <td>Helmholtz Munich Microbiome Day</td>\n",
       "      <td>2022-05-12</td>\n",
       "      <td>Munich, Germany</td>\n",
       "      <td>NaN</td>\n",
       "      <td>NaN</td>\n",
       "    </tr>\n",
       "    <tr>\n",
       "      <th>2</th>\n",
       "      <td>Flexible and efficient modeling of composition...</td>\n",
       "      <td>Poster</td>\n",
       "      <td>ProbGen-2023</td>\n",
       "      <td>Probabilistic Modeling in Genomics</td>\n",
       "      <td>2023-03-09</td>\n",
       "      <td>Cold Spring Harbor, NY, USA</td>\n",
       "      <td>NaN</td>\n",
       "      <td>NaN</td>\n",
       "    </tr>\n",
       "    <tr>\n",
       "      <th>3</th>\n",
       "      <td>Flexible and efficient modeling of composition...</td>\n",
       "      <td>Poster</td>\n",
       "      <td>LMUStats-2023</td>\n",
       "      <td>LMU Statistics department retreat</td>\n",
       "      <td>2023-05-12</td>\n",
       "      <td>Holzhausen am Ammersee, Germany</td>\n",
       "      <td>NaN</td>\n",
       "      <td>NaN</td>\n",
       "    </tr>\n",
       "    <tr>\n",
       "      <th>4</th>\n",
       "      <td>Bayesian Modeling of Compositional Changes in ...</td>\n",
       "      <td>Talk</td>\n",
       "      <td>ICSA-2023</td>\n",
       "      <td>ICSA Applied Statistics Symposium</td>\n",
       "      <td>2023-06-12</td>\n",
       "      <td>Ann Arbor, MI, USA</td>\n",
       "      <td>NaN</td>\n",
       "      <td>NaN</td>\n",
       "    </tr>\n",
       "    <tr>\n",
       "      <th>5</th>\n",
       "      <td>Flexible and efficient modeling of composition...</td>\n",
       "      <td>Poster</td>\n",
       "      <td>ISMB-2023</td>\n",
       "      <td>ISMB/ECCB conference</td>\n",
       "      <td>2023-07-25</td>\n",
       "      <td>Lyon, France</td>\n",
       "      <td>NaN</td>\n",
       "      <td>NaN</td>\n",
       "    </tr>\n",
       "  </tbody>\n",
       "</table>\n",
       "</div>"
      ]
     },
     "execution_count": 3,
     "metadata": {},
     "output_type": "execute_result"
    }
   ],
   "execution_count": 3
  },
  {
   "cell_type": "markdown",
   "metadata": {},
   "source": [
    "## Escape special characters\n",
    "\n",
    "YAML is very picky about how it takes a valid string, so we are replacing single and double quotes (and ampersands) with their HTML encoded equivilents. This makes them look not so readable in raw format, but they are parsed and rendered nicely."
   ]
  },
  {
   "cell_type": "code",
   "metadata": {
    "collapsed": false,
    "deletable": true,
    "editable": true,
    "ExecuteTime": {
     "end_time": "2025-01-15T14:17:06.745414Z",
     "start_time": "2025-01-15T14:17:06.743166Z"
    }
   },
   "source": [
    "html_escape_table = {\n",
    "    \"&\": \"&amp;\",\n",
    "    '\"': \"&quot;\",\n",
    "    \"'\": \"&apos;\"\n",
    "    }\n",
    "\n",
    "def html_escape(text):\n",
    "    if type(text) is str:\n",
    "        return \"\".join(html_escape_table.get(c,c) for c in text)\n",
    "    else:\n",
    "        return \"False\""
   ],
   "outputs": [],
   "execution_count": 4
  },
  {
   "cell_type": "markdown",
   "metadata": {},
   "source": [
    "## Creating the markdown files\n",
    "\n",
    "This is where the heavy lifting is done. This loops through all the rows in the TSV dataframe, then starts to concatentate a big string (```md```) that contains the markdown for each type. It does the YAML metadata first, then does the description for the individual page."
   ]
  },
  {
   "cell_type": "code",
   "metadata": {
    "collapsed": false,
    "deletable": true,
    "editable": true,
    "ExecuteTime": {
     "end_time": "2025-01-15T14:17:06.753295Z",
     "start_time": "2025-01-15T14:17:06.746916Z"
    }
   },
   "source": [
    "loc_dict = {}\n",
    "\n",
    "for row, item in talks.iterrows():\n",
    "    \n",
    "    md_filename = str(item.date) + \"-\" + item.url_slug + \".md\"\n",
    "    html_filename = str(item.date) + \"-\" + item.url_slug \n",
    "    year = item.date[:4]\n",
    "    \n",
    "    md = \"---\\ntitle: \\\"\"   + item.title + '\"\\n'\n",
    "    md += \"collection: talks\" + \"\\n\"\n",
    "    \n",
    "    if len(str(item.type)) > 3:\n",
    "        md += 'type: \"' + item.type + '\"\\n'\n",
    "    else:\n",
    "        md += 'type: \"Talk\"\\n'\n",
    "    \n",
    "    md += \"permalink: /talks/\" + html_filename + \"\\n\"\n",
    "    \n",
    "    if len(str(item.venue)) > 3:\n",
    "        md += 'venue: \"' + item.venue + '\"\\n'\n",
    "        \n",
    "    if len(str(item.location)) > 3:\n",
    "        md += \"date: \" + str(item.date) + \"\\n\"\n",
    "    \n",
    "    if len(str(item.location)) > 3:\n",
    "        md += 'location: \"' + str(item.location) + '\"\\n'\n",
    "           \n",
    "    md += \"---\\n\"\n",
    "    \n",
    "    \n",
    "    if len(str(item.talk_url)) > 3:\n",
    "        md += \"\\n[More information here](\" + item.talk_url + \")\\n\" \n",
    "        \n",
    "    \n",
    "    if len(str(item.description)) > 3:\n",
    "        md += \"\\n\" + html_escape(item.description) + \"\\n\"\n",
    "        \n",
    "        \n",
    "    md_filename = os.path.basename(md_filename)\n",
    "    #print(md)\n",
    "    \n",
    "    with open(\"../_talks/\" + md_filename, 'w') as f:\n",
    "        f.write(md)"
   ],
   "outputs": [],
   "execution_count": 5
  },
  {
   "cell_type": "markdown",
   "metadata": {},
   "source": [
    "These files are in the talks directory, one directory below where we're working from."
   ]
  },
  {
   "cell_type": "code",
   "metadata": {
    "collapsed": false,
    "deletable": true,
    "editable": true,
    "ExecuteTime": {
     "end_time": "2025-01-15T14:17:06.872356Z",
     "start_time": "2025-01-15T14:17:06.753983Z"
    }
   },
   "source": [
    "!ls ../_talks"
   ],
   "outputs": [
    {
     "name": "stdout",
     "output_type": "stream",
     "text": [
      "2022-03-29-DAGStat-2022.md         2023-05-12-LMUStats-2023.md\r\n",
      "2022-05-12-HMGU_microbiome-2022.md 2023-06-12-ICSA-2023.md\r\n",
      "2023-03-09-ProbGen-2023.md         2023-07-25-ISMB-2023.md\r\n"
     ]
    }
   ],
   "execution_count": 6
  },
  {
   "cell_type": "code",
   "metadata": {
    "collapsed": false,
    "deletable": true,
    "editable": true,
    "ExecuteTime": {
     "end_time": "2025-01-15T14:17:06.991408Z",
     "start_time": "2025-01-15T14:17:06.873345Z"
    }
   },
   "source": [
    "!cat ../_talks/2013-03-01-tutorial-1.md"
   ],
   "outputs": [
    {
     "name": "stdout",
     "output_type": "stream",
     "text": [
      "cat: ../_talks/2013-03-01-tutorial-1.md: No such file or directory\r\n"
     ]
    }
   ],
   "execution_count": 7
  }
 ],
 "metadata": {
  "kernelspec": {
   "display_name": "Python 3",
   "language": "python",
   "name": "python3"
  },
  "language_info": {
   "codemirror_mode": {
    "name": "ipython",
    "version": 3
   },
   "file_extension": ".py",
   "mimetype": "text/x-python",
   "name": "python",
   "nbconvert_exporter": "python",
   "pygments_lexer": "ipython3",
   "version": "3.6.1"
  }
 },
 "nbformat": 4,
 "nbformat_minor": 0
}
